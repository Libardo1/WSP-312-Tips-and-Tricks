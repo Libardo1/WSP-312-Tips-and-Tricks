{
 "cells": [
  {
   "cell_type": "markdown",
   "metadata": {},
   "source": [
    "# Best practices\n",
    "\n",
    "Let's start with pep8 (https://www.python.org/dev/peps/pep-0008/)\n",
    "\n",
    "> Imports should be grouped in the following order:\n",
    "\n",
    "> - standard library imports\n",
    "> - related third party imports\n",
    "> - local application/library specific imports\n",
    "\n",
    "> You should put a blank line between each group of imports.\n",
    "Put any relevant __all__ specification after the imports.\n",
    "\n"
   ]
  },
  {
   "cell_type": "code",
   "execution_count": 1,
   "metadata": {
    "collapsed": true
   },
   "outputs": [],
   "source": [
    "%matplotlib inline\n",
    "%config InlineBackend.figure_format='retina' \n",
    "\n",
    "# Add this to python2 code to make life easier\n",
    "from __future__ import absolute_import, division, print_function\n",
    "\n",
    "from itertools import combinations\n",
    "import string\n",
    "\n",
    "from IPython.display import IFrame, HTML, YouTubeVideo\n",
    "import matplotlib as mpl\n",
    "from matplotlib import pyplot as plt\n",
    "from matplotlib.pyplot import GridSpec\n",
    "import seaborn as sns\n",
    "import mpld3\n",
    "import numpy as np\n",
    "# don't do:\n",
    "# from numpy import *"
   ]
  },
  {
   "cell_type": "code",
   "execution_count": 2,
   "metadata": {
    "collapsed": true
   },
   "outputs": [],
   "source": [
    "import pandas as pd\n",
    "import os, sys\n",
    "import warnings\n",
    "\n",
    "sns.set();\n",
    "plt.rcParams['figure.figsize'] = (12, 8)\n",
    "sns.set_style(\"darkgrid\")\n",
    "sns.set_context(\"poster\", font_scale=1.3)\n",
    "\n",
    "warnings.filterwarnings('ignore')"
   ]
  },
  {
   "cell_type": "markdown",
   "metadata": {},
   "source": [
    "# Look at Pandas Dataframes\n",
    "\n",
    "_this is italicized_"
   ]
  },
  {
   "cell_type": "code",
   "execution_count": 3,
   "metadata": {
    "collapsed": true
   },
   "outputs": [],
   "source": [
    "df = pd.read_csv(\"../data/coal_prod_cleaned.csv\")"
   ]
  },
  {
   "cell_type": "code",
   "execution_count": 4,
   "metadata": {
    "collapsed": true
   },
   "outputs": [],
   "source": [
    "# !conda install qgrid -y"
   ]
  },
  {
   "cell_type": "code",
   "execution_count": 5,
   "metadata": {},
   "outputs": [
    {
     "data": {
      "text/html": [
       "<div>\n",
       "<table border=\"1\" class=\"dataframe\">\n",
       "  <thead>\n",
       "    <tr style=\"text-align: right;\">\n",
       "      <th></th>\n",
       "      <th>MSHA_ID</th>\n",
       "      <th>Average_Employees</th>\n",
       "      <th>Company_Type</th>\n",
       "      <th>Labor_Hours</th>\n",
       "      <th>Mine_Basin</th>\n",
       "      <th>Mine_County</th>\n",
       "      <th>Mine_Name</th>\n",
       "      <th>Mine_State</th>\n",
       "      <th>Mine_Status</th>\n",
       "      <th>Mine_Type</th>\n",
       "      <th>Operating_Company</th>\n",
       "      <th>Operating_Company_Address</th>\n",
       "      <th>Operation_Type</th>\n",
       "      <th>Production_short_tons</th>\n",
       "      <th>Union_Code</th>\n",
       "      <th>Year</th>\n",
       "    </tr>\n",
       "  </thead>\n",
       "  <tbody>\n",
       "    <tr>\n",
       "      <th>0</th>\n",
       "      <td>103295</td>\n",
       "      <td>18.0</td>\n",
       "      <td>Independent Producer Operator</td>\n",
       "      <td>39175.0</td>\n",
       "      <td>Appalachia Southern</td>\n",
       "      <td>Bibb</td>\n",
       "      <td>Seymour Mine</td>\n",
       "      <td>Alabama</td>\n",
       "      <td>Active</td>\n",
       "      <td>Surface</td>\n",
       "      <td>Hope Coal Company Inc</td>\n",
       "      <td>P.O. Box 249, Maylene, AL 35114</td>\n",
       "      <td>Mine only</td>\n",
       "      <td>105082.0</td>\n",
       "      <td>NaN</td>\n",
       "      <td>2008</td>\n",
       "    </tr>\n",
       "    <tr>\n",
       "      <th>1</th>\n",
       "      <td>103117</td>\n",
       "      <td>19.0</td>\n",
       "      <td>Operating Subsidiary</td>\n",
       "      <td>29926.0</td>\n",
       "      <td>Appalachia Southern</td>\n",
       "      <td>Cullman</td>\n",
       "      <td>Mine #2, #3, #4</td>\n",
       "      <td>Alabama</td>\n",
       "      <td>Active, men working, not producing</td>\n",
       "      <td>Surface</td>\n",
       "      <td>Twin Pines Coal Company Inc</td>\n",
       "      <td>1874 County Road 15, Bremen, AL 35033</td>\n",
       "      <td>Mine only</td>\n",
       "      <td>10419.0</td>\n",
       "      <td>NaN</td>\n",
       "      <td>2008</td>\n",
       "    </tr>\n",
       "    <tr>\n",
       "      <th>2</th>\n",
       "      <td>103361</td>\n",
       "      <td>20.0</td>\n",
       "      <td>Operating Subsidiary</td>\n",
       "      <td>42542.0</td>\n",
       "      <td>Appalachia Southern</td>\n",
       "      <td>Cullman</td>\n",
       "      <td>Cold Springs West Mine</td>\n",
       "      <td>Alabama</td>\n",
       "      <td>Active</td>\n",
       "      <td>Surface</td>\n",
       "      <td>Twin Pines Coal Company</td>\n",
       "      <td>74 Industrial Parkway, Jasper, AL 35502</td>\n",
       "      <td>Mine only</td>\n",
       "      <td>143208.0</td>\n",
       "      <td>NaN</td>\n",
       "      <td>2008</td>\n",
       "    </tr>\n",
       "    <tr>\n",
       "      <th>3</th>\n",
       "      <td>100759</td>\n",
       "      <td>395.0</td>\n",
       "      <td>Operating Subsidiary</td>\n",
       "      <td>890710.0</td>\n",
       "      <td>Appalachia Southern</td>\n",
       "      <td>Fayette</td>\n",
       "      <td>North River # 1 Underground Mi</td>\n",
       "      <td>Alabama</td>\n",
       "      <td>Active</td>\n",
       "      <td>Underground</td>\n",
       "      <td>Chevron Mining Inc</td>\n",
       "      <td>3114 County Road 63 S, Berry, AL 35546</td>\n",
       "      <td>Mine and Preparation Plant</td>\n",
       "      <td>2923261.0</td>\n",
       "      <td>United Mine Workers of America</td>\n",
       "      <td>2008</td>\n",
       "    </tr>\n",
       "    <tr>\n",
       "      <th>4</th>\n",
       "      <td>103246</td>\n",
       "      <td>22.0</td>\n",
       "      <td>Independent Producer Operator</td>\n",
       "      <td>55403.0</td>\n",
       "      <td>Appalachia Southern</td>\n",
       "      <td>Franklin</td>\n",
       "      <td>Bear Creek</td>\n",
       "      <td>Alabama</td>\n",
       "      <td>Active</td>\n",
       "      <td>Surface</td>\n",
       "      <td>Birmingham Coal &amp; Coke Co., In</td>\n",
       "      <td>912 Edenton Street, Birmingham, AL 35242</td>\n",
       "      <td>Mine only</td>\n",
       "      <td>183137.0</td>\n",
       "      <td>NaN</td>\n",
       "      <td>2008</td>\n",
       "    </tr>\n",
       "  </tbody>\n",
       "</table>\n",
       "</div>"
      ],
      "text/plain": [
       "   MSHA_ID  Average_Employees                   Company_Type  Labor_Hours  \\\n",
       "0   103295               18.0  Independent Producer Operator      39175.0   \n",
       "1   103117               19.0           Operating Subsidiary      29926.0   \n",
       "2   103361               20.0           Operating Subsidiary      42542.0   \n",
       "3   100759              395.0           Operating Subsidiary     890710.0   \n",
       "4   103246               22.0  Independent Producer Operator      55403.0   \n",
       "\n",
       "            Mine_Basin Mine_County                       Mine_Name Mine_State  \\\n",
       "0  Appalachia Southern        Bibb                    Seymour Mine    Alabama   \n",
       "1  Appalachia Southern     Cullman                 Mine #2, #3, #4    Alabama   \n",
       "2  Appalachia Southern     Cullman          Cold Springs West Mine    Alabama   \n",
       "3  Appalachia Southern     Fayette  North River # 1 Underground Mi    Alabama   \n",
       "4  Appalachia Southern    Franklin                      Bear Creek    Alabama   \n",
       "\n",
       "                          Mine_Status    Mine_Type  \\\n",
       "0                              Active      Surface   \n",
       "1  Active, men working, not producing      Surface   \n",
       "2                              Active      Surface   \n",
       "3                              Active  Underground   \n",
       "4                              Active      Surface   \n",
       "\n",
       "                Operating_Company                 Operating_Company_Address  \\\n",
       "0           Hope Coal Company Inc           P.O. Box 249, Maylene, AL 35114   \n",
       "1     Twin Pines Coal Company Inc     1874 County Road 15, Bremen, AL 35033   \n",
       "2         Twin Pines Coal Company   74 Industrial Parkway, Jasper, AL 35502   \n",
       "3              Chevron Mining Inc    3114 County Road 63 S, Berry, AL 35546   \n",
       "4  Birmingham Coal & Coke Co., In  912 Edenton Street, Birmingham, AL 35242   \n",
       "\n",
       "               Operation_Type  Production_short_tons  \\\n",
       "0                   Mine only               105082.0   \n",
       "1                   Mine only                10419.0   \n",
       "2                   Mine only               143208.0   \n",
       "3  Mine and Preparation Plant              2923261.0   \n",
       "4                   Mine only               183137.0   \n",
       "\n",
       "                       Union_Code  Year  \n",
       "0                             NaN  2008  \n",
       "1                             NaN  2008  \n",
       "2                             NaN  2008  \n",
       "3  United Mine Workers of America  2008  \n",
       "4                             NaN  2008  "
      ]
     },
     "execution_count": 5,
     "metadata": {},
     "output_type": "execute_result"
    }
   ],
   "source": [
    "df.head()"
   ]
  },
  {
   "cell_type": "code",
   "execution_count": 6,
   "metadata": {
    "collapsed": true
   },
   "outputs": [],
   "source": [
    "# Check out http://nbviewer.ipython.org/github/quantopian/qgrid/blob/master/qgrid_demo.ipynb for more (including demo)"
   ]
  },
  {
   "cell_type": "code",
   "execution_count": 7,
   "metadata": {},
   "outputs": [
    {
     "data": {
      "text/plain": [
       "(9042, 16)"
      ]
     },
     "execution_count": 7,
     "metadata": {},
     "output_type": "execute_result"
    }
   ],
   "source": [
    "df.shape"
   ]
  },
  {
   "cell_type": "code",
   "execution_count": 18,
   "metadata": {
    "collapsed": true
   },
   "outputs": [],
   "source": [
    "# This broke w/ Notebooks 5.0 "
   ]
  },
  {
   "cell_type": "code",
   "execution_count": 8,
   "metadata": {
    "code_folding": [],
    "collapsed": true
   },
   "outputs": [],
   "source": [
    "import qgrid # Put imports at the top\n",
    "qgrid.nbinstall(overwrite=True)"
   ]
  },
  {
   "cell_type": "code",
   "execution_count": 9,
   "metadata": {},
   "outputs": [
    {
     "data": {
      "application/vnd.jupyter.widget-view+json": {
       "model_id": "dddc8692999f4ca0898a73528b30f9f3"
      }
     },
     "metadata": {},
     "output_type": "display_data"
    }
   ],
   "source": [
    "qgrid.show_grid(df[['MSHA_ID', 'Year', 'Mine_Name', 'Mine_State', 'Mine_County']], remote_js=True)"
   ]
  },
  {
   "cell_type": "code",
   "execution_count": 10,
   "metadata": {},
   "outputs": [
    {
     "name": "stdout",
     "output_type": "stream",
     "text": [
      "00-Overview.ipynb\r\n",
      "01-Tips-and-tricks.ipynb\r\n",
      "02-Visualization-and-code-organization.ipynb\r\n",
      "03-Pandas-and-Plotting.ipynb\r\n",
      "04-SQL-Example.ipynb\r\n",
      "05-interactive-splines.ipynb\r\n",
      "06-R-stuff.ipynb\r\n",
      "07-Some_basics.ipynb\r\n",
      "08-More_basics.ipynb\r\n",
      "09-Extras.ipynb\r\n",
      "Data_Cleaning.ipynb\r\n",
      "Untitled.ipynb\r\n",
      "autoreload-example.ipynb\r\n"
     ]
    }
   ],
   "source": [
    "ls"
   ]
  },
  {
   "cell_type": "markdown",
   "metadata": {},
   "source": [
    "# Pivot Tables w/ pandas\n",
    "\n",
    "http://nicolas.kruchten.com/content/2015/09/jupyter_pivottablejs/"
   ]
  },
  {
   "cell_type": "code",
   "execution_count": 11,
   "metadata": {},
   "outputs": [],
   "source": [
    "# !conda install pivottablejs -y"
   ]
  },
  {
   "cell_type": "code",
   "execution_count": 12,
   "metadata": {
    "collapsed": true
   },
   "outputs": [],
   "source": [
    "df = pd.read_csv(\"../data/mps.csv\", encoding=\"ISO-8859-1\")"
   ]
  },
  {
   "cell_type": "code",
   "execution_count": 13,
   "metadata": {},
   "outputs": [
    {
     "data": {
      "text/html": [
       "<div>\n",
       "<table border=\"1\" class=\"dataframe\">\n",
       "  <thead>\n",
       "    <tr style=\"text-align: right;\">\n",
       "      <th></th>\n",
       "      <th>Name</th>\n",
       "      <th>Party</th>\n",
       "      <th>Province</th>\n",
       "      <th>Age</th>\n",
       "      <th>Gender</th>\n",
       "    </tr>\n",
       "  </thead>\n",
       "  <tbody>\n",
       "    <tr>\n",
       "      <th>0</th>\n",
       "      <td>Liu, Laurin</td>\n",
       "      <td>NDP</td>\n",
       "      <td>Quebec</td>\n",
       "      <td>22.0</td>\n",
       "      <td>Female</td>\n",
       "    </tr>\n",
       "    <tr>\n",
       "      <th>1</th>\n",
       "      <td>Mourani, Maria</td>\n",
       "      <td>Bloc Quebecois</td>\n",
       "      <td>Quebec</td>\n",
       "      <td>43.0</td>\n",
       "      <td>Female</td>\n",
       "    </tr>\n",
       "    <tr>\n",
       "      <th>2</th>\n",
       "      <td>Sellah, Djaouida</td>\n",
       "      <td>NDP</td>\n",
       "      <td>Quebec</td>\n",
       "      <td>NaN</td>\n",
       "      <td>Female</td>\n",
       "    </tr>\n",
       "    <tr>\n",
       "      <th>3</th>\n",
       "      <td>St-Denis, Lise</td>\n",
       "      <td>NDP</td>\n",
       "      <td>Quebec</td>\n",
       "      <td>72.0</td>\n",
       "      <td>Female</td>\n",
       "    </tr>\n",
       "    <tr>\n",
       "      <th>4</th>\n",
       "      <td>Fry, Hedy</td>\n",
       "      <td>Liberal</td>\n",
       "      <td>British Columbia</td>\n",
       "      <td>71.0</td>\n",
       "      <td>Female</td>\n",
       "    </tr>\n",
       "    <tr>\n",
       "      <th>5</th>\n",
       "      <td>Turmel, Nycole</td>\n",
       "      <td>NDP</td>\n",
       "      <td>Quebec</td>\n",
       "      <td>70.0</td>\n",
       "      <td>Female</td>\n",
       "    </tr>\n",
       "    <tr>\n",
       "      <th>6</th>\n",
       "      <td>Sgro, Judy</td>\n",
       "      <td>Liberal</td>\n",
       "      <td>Ontario</td>\n",
       "      <td>68.0</td>\n",
       "      <td>Female</td>\n",
       "    </tr>\n",
       "    <tr>\n",
       "      <th>7</th>\n",
       "      <td>Raynault, Francine</td>\n",
       "      <td>NDP</td>\n",
       "      <td>Quebec</td>\n",
       "      <td>67.0</td>\n",
       "      <td>Female</td>\n",
       "    </tr>\n",
       "    <tr>\n",
       "      <th>8</th>\n",
       "      <td>Davidson, Patricia</td>\n",
       "      <td>Conservative</td>\n",
       "      <td>Ontario</td>\n",
       "      <td>66.0</td>\n",
       "      <td>Female</td>\n",
       "    </tr>\n",
       "    <tr>\n",
       "      <th>9</th>\n",
       "      <td>Smith, Joy</td>\n",
       "      <td>Conservative</td>\n",
       "      <td>Manitoba</td>\n",
       "      <td>65.0</td>\n",
       "      <td>Female</td>\n",
       "    </tr>\n",
       "  </tbody>\n",
       "</table>\n",
       "</div>"
      ],
      "text/plain": [
       "                 Name           Party          Province   Age  Gender\n",
       "0         Liu, Laurin             NDP            Quebec  22.0  Female\n",
       "1      Mourani, Maria  Bloc Quebecois            Quebec  43.0  Female\n",
       "2    Sellah, Djaouida             NDP            Quebec   NaN  Female\n",
       "3      St-Denis, Lise             NDP            Quebec  72.0  Female\n",
       "4           Fry, Hedy         Liberal  British Columbia  71.0  Female\n",
       "5      Turmel, Nycole             NDP            Quebec  70.0  Female\n",
       "6          Sgro, Judy         Liberal           Ontario  68.0  Female\n",
       "7  Raynault, Francine             NDP            Quebec  67.0  Female\n",
       "8  Davidson, Patricia    Conservative           Ontario  66.0  Female\n",
       "9          Smith, Joy    Conservative          Manitoba  65.0  Female"
      ]
     },
     "execution_count": 13,
     "metadata": {},
     "output_type": "execute_result"
    }
   ],
   "source": [
    "df.head(10)"
   ]
  },
  {
   "cell_type": "markdown",
   "metadata": {},
   "source": [
    "# Enhanced Pandas Dataframe Display"
   ]
  },
  {
   "cell_type": "code",
   "execution_count": 14,
   "metadata": {
    "collapsed": true
   },
   "outputs": [],
   "source": [
    "# Province, Party, Average, Age, Heatmap"
   ]
  },
  {
   "cell_type": "code",
   "execution_count": 15,
   "metadata": {
    "collapsed": true
   },
   "outputs": [],
   "source": [
    "from pivottablejs import pivot_ui"
   ]
  },
  {
   "cell_type": "code",
   "execution_count": 16,
   "metadata": {
    "scrolled": false
   },
   "outputs": [
    {
     "data": {
      "text/html": [
       "\n",
       "        <iframe\n",
       "            width=\"100%\"\n",
       "            height=\"500\"\n",
       "            src=\"pivottablejs.html\"\n",
       "            frameborder=\"0\"\n",
       "            allowfullscreen\n",
       "        ></iframe>\n",
       "        "
      ],
      "text/plain": [
       "<IPython.lib.display.IFrame at 0x10a06b278>"
      ]
     },
     "execution_count": 16,
     "metadata": {},
     "output_type": "execute_result"
    }
   ],
   "source": [
    "pivot_ui(df)"
   ]
  },
  {
   "cell_type": "markdown",
   "metadata": {},
   "source": [
    "# Keyboard shortcuts\n",
    "\n",
    "For help, `ESC` + `h`"
   ]
  },
  {
   "cell_type": "code",
   "execution_count": 17,
   "metadata": {
    "collapsed": true
   },
   "outputs": [],
   "source": [
    "# in select mode, shift j/k (to select multiple cells at once)\n",
    "# split cell with ctrl shift -"
   ]
  },
  {
   "cell_type": "code",
   "execution_count": null,
   "metadata": {
    "collapsed": true
   },
   "outputs": [],
   "source": [
    "first = 1"
   ]
  },
  {
   "cell_type": "code",
   "execution_count": null,
   "metadata": {
    "collapsed": true
   },
   "outputs": [],
   "source": [
    "second = 2"
   ]
  },
  {
   "cell_type": "code",
   "execution_count": null,
   "metadata": {
    "collapsed": true
   },
   "outputs": [],
   "source": [
    "third = 3"
   ]
  },
  {
   "cell_type": "markdown",
   "metadata": {},
   "source": [
    "### Different heading levels\n",
    "\n",
    "With text and $\\LaTeX$ support."
   ]
  },
  {
   "cell_type": "code",
   "execution_count": null,
   "metadata": {
    "collapsed": true
   },
   "outputs": [],
   "source": []
  },
  {
   "cell_type": "markdown",
   "metadata": {},
   "source": [
    "You can also get monospaced fonts by indenting 4 spaces:\n",
    "\n",
    "    mkdir toc\n",
    "    cd toc"
   ]
  },
  {
   "cell_type": "code",
   "execution_count": null,
   "metadata": {
    "collapsed": true
   },
   "outputs": [],
   "source": []
  },
  {
   "cell_type": "markdown",
   "metadata": {},
   "source": [
    "Wrap with triple-backticks and language:\n",
    "\n",
    "```bash\n",
    "mkdir toc\n",
    "cd toc\n",
    "wget https://repo.continuum.io/miniconda/Miniconda3-latest-MacOSX-x86_64.sh\n",
    "```"
   ]
  },
  {
   "cell_type": "code",
   "execution_count": null,
   "metadata": {
    "collapsed": true
   },
   "outputs": [],
   "source": []
  },
  {
   "cell_type": "code",
   "execution_count": 1,
   "metadata": {
    "collapsed": true
   },
   "outputs": [],
   "source": [
    "import numpy as np"
   ]
  },
  {
   "cell_type": "code",
   "execution_count": null,
   "metadata": {
    "collapsed": true
   },
   "outputs": [],
   "source": [
    "np.linspace(start=, )"
   ]
  },
  {
   "cell_type": "code",
   "execution_count": null,
   "metadata": {
    "collapsed": true
   },
   "outputs": [],
   "source": []
  },
  {
   "cell_type": "markdown",
   "metadata": {},
   "source": [
    "```SQL\n",
    "SELECT *\n",
    "FROM tablename\n",
    "```"
   ]
  },
  {
   "cell_type": "code",
   "execution_count": null,
   "metadata": {
    "collapsed": true
   },
   "outputs": [],
   "source": [
    "```sql\n",
    "\n",
    "SELECT first_name,\n",
    "       last_name,\n",
    "       year_of_birth\n",
    "FROM presidents\n",
    "WHERE year_of_birth > 1800;\n",
    "\n",
    "```"
   ]
  },
  {
   "cell_type": "code",
   "execution_count": 16,
   "metadata": {},
   "outputs": [
    {
     "name": "stdout",
     "output_type": "stream",
     "text": [
      "/Users/jonathan/github/jupyter-tips-and-tricks/deliver\n",
      "4.0K\t00-Overview.ipynb\n",
      " 44K\t01-Tips-and-tricks.ipynb\n",
      "8.0K\t02-Visualization-and-code-organization.ipynb\n",
      "8.0K\t03-Pandas-and-Plotting.ipynb\n",
      "8.0K\t04-SQL-Example.ipynb\n",
      " 36K\t05-interactive-splines.ipynb\n",
      "212K\t06-R-stuff.ipynb\n",
      " 16K\t07-Some_basics.ipynb\n",
      " 20K\t08-More_basics.ipynb\n",
      " 12K\t09-Extras.ipynb\n",
      " 24K\tData_Cleaning.ipynb\n",
      "break\n",
      "\n",
      "4.0K\t00-Overview.ipynb\n",
      " 44K\t01-Tips-and-tricks.ipynb\n",
      "8.0K\t02-Visualization-and-code-organization.ipynb\n",
      "8.0K\t03-Pandas-and-Plotting.ipynb\n",
      "8.0K\t04-SQL-Example.ipynb\n",
      " 36K\t05-interactive-splines.ipynb\n",
      "212K\t06-R-stuff.ipynb\n",
      " 16K\t07-Some_basics.ipynb\n",
      " 20K\t08-More_basics.ipynb\n",
      " 12K\t09-Extras.ipynb\n",
      " 24K\tData_Cleaning.ipynb\n"
     ]
    }
   ],
   "source": [
    "%%bash\n",
    "pwd \n",
    "for i in *.ipynb\n",
    "do\n",
    "    du -h $i\n",
    "done\n",
    "echo \"break\"\n",
    "echo\n",
    "du -h *ipynb"
   ]
  },
  {
   "cell_type": "markdown",
   "metadata": {
    "collapsed": true
   },
   "source": [
    "## Other cell-magics"
   ]
  },
  {
   "cell_type": "code",
   "execution_count": 21,
   "metadata": {},
   "outputs": [
    {
     "name": "stdout",
     "output_type": "stream",
     "text": [
      "Overwriting ../scripts/temp.py\n"
     ]
    }
   ],
   "source": [
    "%%writefile ../scripts/temp.py\n",
    "from __future__ import absolute_import, division, print_function\n",
    "\n",
    "I'm not cheating!"
   ]
  },
  {
   "cell_type": "code",
   "execution_count": 22,
   "metadata": {},
   "outputs": [
    {
     "name": "stdout",
     "output_type": "stream",
     "text": [
      "from __future__ import absolute_import, division, print_function\r\n",
      "\r\n",
      "I'm not cheating!"
     ]
    }
   ],
   "source": [
    "!cat ../scripts/temp.py"
   ]
  },
  {
   "cell_type": "code",
   "execution_count": null,
   "metadata": {
    "collapsed": true
   },
   "outputs": [],
   "source": []
  },
  {
   "cell_type": "markdown",
   "metadata": {},
   "source": [
    "# Tab; shift-tab; shift-tab-tab; shift-tab-tab-tab-tab; and more!"
   ]
  },
  {
   "cell_type": "code",
   "execution_count": 2,
   "metadata": {
    "collapsed": true
   },
   "outputs": [],
   "source": [
    "def silly_absolute_value_function(xval):\n",
    "    \"\"\"Takes a value and returns the value.\"\"\"\n",
    "    xval_sq = xval ** 2.0\n",
    "    1 + 4\n",
    "    xval_abs = np.sqrt(xval_sq)\n",
    "    return xval_abs"
   ]
  },
  {
   "cell_type": "code",
   "execution_count": 3,
   "metadata": {
    "collapsed": true
   },
   "outputs": [],
   "source": [
    "silly_absolute_value_function?"
   ]
  },
  {
   "cell_type": "code",
   "execution_count": 25,
   "metadata": {
    "collapsed": true
   },
   "outputs": [],
   "source": [
    "silly_absolute_value_function??"
   ]
  },
  {
   "cell_type": "code",
   "execution_count": null,
   "metadata": {
    "collapsed": true
   },
   "outputs": [],
   "source": [
    "silly_absolute_value_function()"
   ]
  },
  {
   "cell_type": "code",
   "execution_count": 26,
   "metadata": {
    "collapsed": true
   },
   "outputs": [],
   "source": [
    "import numpy as np"
   ]
  },
  {
   "cell_type": "code",
   "execution_count": 28,
   "metadata": {
    "collapsed": true
   },
   "outputs": [],
   "source": [
    "# This doesn't work because ufunc \n",
    "np.linspace??"
   ]
  },
  {
   "cell_type": "code",
   "execution_count": null,
   "metadata": {
    "collapsed": true
   },
   "outputs": [],
   "source": [
    "# Indent/dedent/comment\n",
    "for _ in range(5):\n",
    "    df[\"one\"] = 1\n",
    "    df[\"two\"] = 2\n",
    "    df[\"three\"] = 3\n",
    "    df[\"four\"] = 4\n",
    "\n"
   ]
  },
  {
   "cell_type": "markdown",
   "metadata": {
    "collapsed": true
   },
   "source": [
    "## Multicursor magic"
   ]
  },
  {
   "cell_type": "code",
   "execution_count": null,
   "metadata": {
    "collapsed": true
   },
   "outputs": [],
   "source": [
    "df[\"one_better_name\"] = 1\n",
    "df[\"two_better_name\"] = 2\n",
    "df[\"three_better_name\"] = 3\n",
    "df[\"four_better_name\"] = 4"
   ]
  }
 ],
 "metadata": {
  "anaconda-cloud": {},
  "kernelspec": {
   "display_name": "py3",
   "language": "python",
   "name": "py3"
  },
  "language_info": {
   "codemirror_mode": {
    "name": "ipython",
    "version": 3
   },
   "file_extension": ".py",
   "mimetype": "text/x-python",
   "name": "python",
   "nbconvert_exporter": "python",
   "pygments_lexer": "ipython3",
   "version": "3.6.1"
  },
  "widgets": {
   "state": {
    "1f2b33bdbf62410e92177b1ae2e22d0e": {
     "views": [
      {
       "cell_index": 9
      }
     ]
    }
   },
   "version": "1.2.0"
  }
 },
 "nbformat": 4,
 "nbformat_minor": 1
}
