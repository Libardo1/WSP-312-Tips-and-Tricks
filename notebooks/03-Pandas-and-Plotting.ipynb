{
 "cells": [
  {
   "cell_type": "markdown",
   "metadata": {},
   "source": [
    "https://github.com/dunovank/jupyter-themes"
   ]
  },
  {
   "cell_type": "markdown",
   "metadata": {},
   "source": [
    "# Pandas\n",
    "\n",
    "If you've never used `pandas` before, it's amazingly useful, and at times frustrating.\n",
    "\n",
    "Recommended links: \n",
    "\n",
    " - [Jake Vanderplas Python Data Science Handbook](https://github.com/jakevdp/PythonDataScienceHandbook)\n",
    " - http://pandas.pydata.org/pandas-docs/stable/gotchas.html\n",
    " - https://github.com/dwhitena/blog-content/blob/master/python_pitfalls/Python-Pitfalls.ipynb\n",
    " - http://pandas.pydata.org/pandas-docs/stable/cookbook.html\n",
    "\n",
    "Read through this full series of excellent blog posts by [Tom Augspurger](http://tomaugspurger.github.io/modern-1.html).\n",
    "\n",
    "High level tip\n",
    "\n",
    " - try to represent data in the proper format\n",
    "   - floats as floats; ints as ints; etc. \n",
    "   - Especially if you have dates, or timestamps, or datetimestamps, keep them in that format. \n",
    "      \n",
    "This pdf [Tidy Data](http://vita.had.co.nz/papers/tidy-data.pdf) by Hadley Wickham is an excellent read with a lot that relates to data analysis in any language. "
   ]
  },
  {
   "cell_type": "code",
   "execution_count": null,
   "metadata": {
    "collapsed": true
   },
   "outputs": [],
   "source": [
    "from __future__ import absolute_import, division, print_function\n",
    "\n",
    "%matplotlib inline\n",
    "import matplotlib.pyplot as plt"
   ]
  },
  {
   "cell_type": "code",
   "execution_count": null,
   "metadata": {
    "collapsed": true
   },
   "outputs": [],
   "source": [
    "import seaborn as sns\n",
    "sns.set_context('poster')\n",
    "sns.set_style('whitegrid') \n",
    "# sns.set_style('darkgrid') \n",
    "plt.rcParams['figure.figsize'] = 12, 8  # plotsize "
   ]
  },
  {
   "cell_type": "code",
   "execution_count": null,
   "metadata": {},
   "outputs": [],
   "source": [
    "import numpy as np\n",
    "import pandas as pd\n",
    "from pandas.tools.plotting import scatter_matrix\n",
    "from sklearn.datasets import load_boston\n",
    "\n",
    "import warnings\n",
    "warnings.filterwarnings('ignore')"
   ]
  },
  {
   "cell_type": "markdown",
   "metadata": {},
   "source": [
    "### Note\n",
    "\n",
    "Using cleaned data from [Data Cleaning](Data%20Cleaning.ipynb) Notebook. See Notebook for details."
   ]
  },
  {
   "cell_type": "code",
   "execution_count": null,
   "metadata": {
    "collapsed": true
   },
   "outputs": [],
   "source": [
    "df = pd.read_csv(\"../data/coal_prod_cleaned.csv\")"
   ]
  },
  {
   "cell_type": "code",
   "execution_count": null,
   "metadata": {},
   "outputs": [],
   "source": [
    "df.head()"
   ]
  },
  {
   "cell_type": "code",
   "execution_count": null,
   "metadata": {},
   "outputs": [],
   "source": [
    "plt.scatter(df['Average_Employees'], \n",
    "            df.Labor_Hours)\n",
    "plt.xlabel(\"Number of Employees\")\n",
    "plt.ylabel(\"Total Hours Worked\");"
   ]
  },
  {
   "cell_type": "code",
   "execution_count": null,
   "metadata": {},
   "outputs": [],
   "source": [
    "colors = sns.color_palette(n_colors=df.Year.nunique())"
   ]
  },
  {
   "cell_type": "code",
   "execution_count": null,
   "metadata": {},
   "outputs": [],
   "source": [
    "color_dict = {key: value for key, value in zip(sorted(df.Year.unique()), colors)}"
   ]
  },
  {
   "cell_type": "code",
   "execution_count": null,
   "metadata": {},
   "outputs": [],
   "source": [
    "color_dict"
   ]
  },
  {
   "cell_type": "code",
   "execution_count": null,
   "metadata": {
    "code_folding": []
   },
   "outputs": [],
   "source": [
    "for year in sorted(df.Year.unique()[[0, 2, -1]]):\n",
    "    plt.scatter(df[df.Year == year].Labor_Hours,\n",
    "                df[df.Year == year].Production_short_tons, \n",
    "                c=color_dict[year],\n",
    "                s=50,\n",
    "                label=year,\n",
    "               )\n",
    "plt.xlabel(\"Total Hours Worked\")\n",
    "plt.ylabel(\"Total Amount Produced\")\n",
    "plt.legend()\n",
    "plt.savefig(\"ex1.png\")"
   ]
  },
  {
   "cell_type": "code",
   "execution_count": null,
   "metadata": {
    "collapsed": true
   },
   "outputs": [],
   "source": [
    "import matplotlib as mpl"
   ]
  },
  {
   "cell_type": "code",
   "execution_count": null,
   "metadata": {},
   "outputs": [],
   "source": [
    "mpl.style.use('seaborn-colorblind')"
   ]
  },
  {
   "cell_type": "code",
   "execution_count": null,
   "metadata": {
    "collapsed": true
   },
   "outputs": [],
   "source": [
    "plt.style.available"
   ]
  },
  {
   "cell_type": "code",
   "execution_count": null,
   "metadata": {},
   "outputs": [],
   "source": [
    "for year in sorted(df.Year.unique()[[0, 2, -1]]):\n",
    "    plt.scatter(df[df.Year == year].Labor_Hours,\n",
    "                df[df.Year == year].Production_short_tons, \n",
    "                c=color_dict[year],\n",
    "                s=50,\n",
    "                label=year,\n",
    "               )\n",
    "plt.xlabel(\"Total Hours Worked\")\n",
    "plt.ylabel(\"Total Amount Produced\")\n",
    "plt.legend();\n",
    "# plt.savefig(\"ex1.png\")"
   ]
  },
  {
   "cell_type": "code",
   "execution_count": null,
   "metadata": {},
   "outputs": [],
   "source": [
    "df_dict = load_boston()\n",
    "features = pd.DataFrame(data=df_dict.data, columns = df_dict.feature_names)\n",
    "target = pd.DataFrame(data=df_dict.target, columns = ['MEDV'])\n",
    "df = pd.concat([features, target], axis=1)\n",
    "df.head()"
   ]
  },
  {
   "cell_type": "code",
   "execution_count": null,
   "metadata": {},
   "outputs": [],
   "source": [
    "# Target variable\n",
    "fig, ax = plt.subplots(figsize=(6, 4))\n",
    "sns.distplot(df.MEDV, ax=ax, rug=True, hist=False)"
   ]
  },
  {
   "cell_type": "code",
   "execution_count": null,
   "metadata": {},
   "outputs": [],
   "source": [
    "fig, ax = plt.subplots(figsize=(10,7))\n",
    "sns.kdeplot(df.LSTAT,\n",
    "            df.MEDV,\n",
    "            ax=ax)"
   ]
  },
  {
   "cell_type": "code",
   "execution_count": null,
   "metadata": {},
   "outputs": [],
   "source": [
    "fig, ax = plt.subplots(figsize=(10, 10))\n",
    "scatter_matrix(df[['MEDV', 'LSTAT', 'CRIM', 'RM', 'NOX', 'DIS']], alpha=0.2, diagonal='hist', ax=ax);"
   ]
  },
  {
   "cell_type": "code",
   "execution_count": null,
   "metadata": {
    "collapsed": true
   },
   "outputs": [],
   "source": [
    "pd.cut()"
   ]
  },
  {
   "cell_type": "code",
   "execution_count": null,
   "metadata": {
    "collapsed": true
   },
   "outputs": [],
   "source": []
  },
  {
   "cell_type": "code",
   "execution_count": null,
   "metadata": {
    "collapsed": true
   },
   "outputs": [],
   "source": []
  },
  {
   "cell_type": "code",
   "execution_count": null,
   "metadata": {
    "collapsed": true
   },
   "outputs": [],
   "source": []
  }
 ],
 "metadata": {
  "anaconda-cloud": {},
  "kernelspec": {
   "display_name": "Python 3",
   "language": "python",
   "name": "python3"
  },
  "language_info": {
   "codemirror_mode": {
    "name": "ipython",
    "version": 3
   },
   "file_extension": ".py",
   "mimetype": "text/x-python",
   "name": "python",
   "nbconvert_exporter": "python",
   "pygments_lexer": "ipython3",
   "version": "3.6.1"
  }
 },
 "nbformat": 4,
 "nbformat_minor": 1
}
